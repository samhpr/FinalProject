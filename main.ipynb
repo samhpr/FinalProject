{
 "cells": [
  {
   "attachments": {},
   "cell_type": "markdown",
   "metadata": {},
   "source": [
    "# CPSC222 Final Project - Analyzing Spotify Data\n",
    "\n",
    "CPSC 223 Section 01\n",
    "\n",
    "12/13/2022\n",
    "\n",
    "Sam Hopper, Manny Uzoma\n",
    "\n",
    "Within this project, we are going to be analyzing the diferences in our spotify datasets. Moreover, we are going to attempt to train a machine learning model to predict the differences in our listening history."
   ]
  },
  {
   "attachments": {},
   "cell_type": "markdown",
   "metadata": {},
   "source": [
    "## Introduction\n",
    "1. The domain we are researching is a Spotify dataset.\n",
    "1. We colleced CSV files of the data from Spotify.\n",
    "1. Tables\n",
    "    * Data was automatically collected using the Spotify Developer portal.\n",
    "    * Each table has 4 instances, a date, artist name, track name, and miliseconds played.\n",
    "1. Attributes:\n",
    "    * \"endTime\": cardinal date and time in string\n",
    "    * \"artistName\": the name of the artist in string format\n",
    "    * \"trackName\": name of the track as a string\n",
    "    * \"msPlayed\": amount of time played (in miliseconds) as a integer for each song\n",
    "1. We are classifying the artist name and the miliseconds played in the dataset.\n",
    "1. The primary potential impact on our results is us, being the stakeholders, as we will be demonstrating the resources learned from class in real world applications."
   ]
  },
  {
   "attachments": {},
   "cell_type": "markdown",
   "metadata": {},
   "source": [
    "## Data Analysis\n",
    "1. Cleaning was minimal as there were no missing values within this dataset: \n",
    "    * The most cleaning necessary was converting the Spotify raw json file to CSV format. \n",
    "    * Moreover, we had to convert miliseconds to minutes.\n",
    "2. Data preperation and aggregation, had to search and group artist names to the respective miliseconds played.\n"
   ]
  },
  {
   "attachments": {},
   "cell_type": "markdown",
   "metadata": {},
   "source": [
    "We begin by creating the dataframes and importing the necessary libraries needed. Primarily, we will use pandas to begin sorting our data into a dataframe object."
   ]
  },
  {
   "cell_type": "code",
   "execution_count": 10,
   "metadata": {},
   "outputs": [],
   "source": [
    "import numpy as np\n",
    "import pandas as pd\n",
    "import matplotlib.pyplot as plt\n",
    "import scipy.stats as stats\n",
    "\n",
    "df = pd.read_csv(\"project_midterm_part.csv\")\n",
    "artist_name_df = df.groupby(\"artistName\")\n",
    "\n",
    "manny_df = pd.read_csv(\"StreamingHistory1.csv\")\n",
    "manny_artist_name_df = manny_df.groupby(\"artistName\")"
   ]
  },
  {
   "attachments": {},
   "cell_type": "markdown",
   "metadata": {},
   "source": [
    "#### Beginning Visualizations - Aggregating the dataset\n",
    "\n",
    "Grouping through each of our five chosen artists and splitting into series to obtain the sums of each."
   ]
  },
  {
   "cell_type": "code",
   "execution_count": 11,
   "metadata": {},
   "outputs": [],
   "source": [
    "artist_df = artist_name_df.get_group(\"Kanye West\")\n",
    "artist_ser = artist_df[\"msPlayed\"]\n",
    "manny_df1 = manny_artist_name_df.get_group(\"Kanye West\")\n",
    "artist_ser11 = manny_df1[\"msPlayed\"]\n",
    "\n",
    "artist_df = artist_name_df.get_group(\"Mac Miller\")\n",
    "artist_ser2 = artist_df[\"msPlayed\"]\n",
    "manny_df1 = manny_artist_name_df.get_group(\"Mac Miller\")\n",
    "artist_ser22 = manny_df1[\"msPlayed\"]\n",
    "\n",
    "artist_df = artist_name_df.get_group(\"Drake\")\n",
    "artist_ser3 = artist_df[\"msPlayed\"]\n",
    "manny_df1 = manny_artist_name_df.get_group(\"Drake\")\n",
    "artist_ser33 = manny_df1[\"msPlayed\"]\n",
    "\n",
    "artist_df = artist_name_df.get_group(\"SZA\")\n",
    "artist_ser4 = artist_df[\"msPlayed\"]\n",
    "manny_df1 = manny_artist_name_df.get_group(\"SZA\")\n",
    "artist_ser44 = manny_df1[\"msPlayed\"]\n",
    "\n",
    "artist_df = artist_name_df.get_group(\"Billie Eilish\")\n",
    "artist_ser5 = artist_df[\"msPlayed\"]\n",
    "manny_df1 = manny_artist_name_df.get_group(\"Billie Eilish\")\n",
    "artist_ser55 = manny_df1[\"msPlayed\"]"
   ]
  },
  {
   "attachments": {},
   "cell_type": "markdown",
   "metadata": {},
   "source": [
    "Beginning of visualization by identifying each Manny and I's X and Y plot labels and additionally creating the sum of the series for each to find the total amount of time listened for each artist. Moreover, I have a loop that intuitively goes through each instance of the series, which were in miliseconds and now minutes by dividing by 60,000."
   ]
  },
  {
   "cell_type": "code",
   "execution_count": 12,
   "metadata": {},
   "outputs": [
    {
     "data": {
      "text/plain": [
       "'\\nfor i in y:\\n    print(i)\\n'"
      ]
     },
     "execution_count": 12,
     "metadata": {},
     "output_type": "execute_result"
    }
   ],
   "source": [
    "x = [\"Kanye West\", \"Mac Miller\", \"Drake\", \"SZA\", \"Billie Eilish\"]\n",
    "y = [int(artist_ser.sum()), int(artist_ser2.sum()), int(artist_ser3.sum()), int(artist_ser4.sum()), int(artist_ser5.sum())]\n",
    "\n",
    "x1 = [\"Kanye West\", \"Mac Miller\", \"Drake\", \"SZA\", \"Billie Eilish\"]\n",
    "y1 = [int(artist_ser11.sum()), int(artist_ser22.sum()), int(artist_ser33.sum()), int(artist_ser44.sum()), int(artist_ser55.sum())]\n",
    "\n",
    "# finding the mean amount of time listened\n",
    "mean_listening_time_ser = df.iloc[:,3]\n",
    "test_statistic = mean_listening_time_ser.mean() / 60000\n",
    "\n",
    "#print(y[0])\n",
    "for i in range(len(y)):\n",
    "    #print(i)\n",
    "    y[i] = y[i] / 60000\n",
    "    y1[i] = y1[i] / 60000\n",
    "\n",
    "\"\"\"\n",
    "for i in y:\n",
    "    print(i)\n",
    "\"\"\""
   ]
  },
  {
   "attachments": {},
   "cell_type": "markdown",
   "metadata": {},
   "source": [
    "### Visualization of Sam Spotify listening history dataset"
   ]
  },
  {
   "cell_type": "code",
   "execution_count": 13,
   "metadata": {},
   "outputs": [
    {
     "data": {
      "image/png": "[encoded data removed]",
      "text/plain": [
       "<Figure size 432x288 with 1 Axes>"
      ]
     },
     "metadata": {
      "needs_background": "light"
     },
     "output_type": "display_data"
    }
   ],
   "source": [
    "plt.ylabel(\"Listening time (minutes)\")\n",
    "plt.xlabel(\"Artists\")\n",
    "plt.title(\"Sam Spotify Listening History (November-December 2021)\")\n",
    "plt.bar(x,y)\n",
    "plt.show()"
   ]
  },
  {
   "attachments": {},
   "cell_type": "markdown",
   "metadata": {},
   "source": [
    "#### Visualization of Manny Spotify listening history dataset"
   ]
  },
  {
   "cell_type": "code",
   "execution_count": 14,
   "metadata": {},
   "outputs": [
    {
     "data": {
      "image/png": "[encoded data removed]",
      "text/plain": [
       "<Figure size 432x288 with 1 Axes>"
      ]
     },
     "metadata": {
      "needs_background": "light"
     },
     "output_type": "display_data"
    }
   ],
   "source": [
    "plt.ylabel(\"Listening time (minutes)\")\n",
    "plt.xlabel(\"Artists\")\n",
    "plt.title(\"Manny Spotify Listening History (November-December 2021)\")\n",
    "plt.bar(x1, y1)\n",
    "plt.show()"
   ]
  },
  {
   "attachments": {},
   "cell_type": "markdown",
   "metadata": {},
   "source": [
    "### Visualization of both datasets"
   ]
  },
  {
   "cell_type": "code",
   "execution_count": 15,
   "metadata": {},
   "outputs": [
    {
     "data": {
      "image/png": "[encoded data removed]",
      "text/plain": [
       "<Figure size 432x288 with 1 Axes>"
      ]
     },
     "metadata": {
      "needs_background": "light"
     },
     "output_type": "display_data"
    }
   ],
   "source": [
    "plt.ylabel(\"Listening time (minutes)\")\n",
    "plt.xlabel(\"Artists\")\n",
    "plt.title(\"Sam vs. Manny Spotify Listening History (November-December 2021)\")\n",
    "plt.bar(x, y, alpha=0.5)\n",
    "plt.bar(x1, y1, alpha=0.5)\n",
    "plt.show()"
   ]
  },
  {
   "attachments": {},
   "cell_type": "markdown",
   "metadata": {},
   "source": [
    "* Primary takeaways forom this graph: I listen to significantly more Kanye West than Manny listens to Drake. But we can test this using hypothesis testing:"
   ]
  },
  {
   "attachments": {},
   "cell_type": "markdown",
   "metadata": {},
   "source": [
    "### One Sample, One-tailed test for Sam's Spotify Data\n",
    "\n",
    "#### Null and alternative hypothesis:\n",
    "\n",
    "$H_0$: $\\mu \\le \\mu _2$\n",
    "\n",
    "\n",
    "\n",
    "$H_1$: $\\mu > \\mu _2$\n",
    "\n",
    "#### Level of significance:\n",
    "\n",
    "$\\alpha = 0.05$ \n",
    "\n",
    "#### Appropriate test statistic:\n",
    "\n",
    "$t = \\frac{\\overline{x} - \\mu}{s / \\sqrt(n)}$\n",
    "\n",
    "### Formulate decision rule:\n",
    "\n",
    "* If t-computed is > 1.708, then reject $H_0$\n",
    "\n",
    "* If t-computed is <= 1.708, then Do Not Reject $H_0$"
   ]
  },
  {
   "cell_type": "code",
   "execution_count": 16,
   "metadata": {},
   "outputs": [
    {
     "name": "stdout",
     "output_type": "stream",
     "text": [
      "1.602319095027814 0.09217244169158147\n",
      "DO NOT reject H0\n"
     ]
    }
   ],
   "source": [
    "t_computed, p_val = stats.ttest_1samp(y, test_statistic)\n",
    "\n",
    "p_val /= 2 # because one tailed\n",
    "print(t_computed, p_val)\n",
    "alpha = 0.05\n",
    "if p_val < alpha:\n",
    "    print(\"reject H0\")\n",
    "else:\n",
    "    print(\"DO NOT reject H0\")"
   ]
  },
  {
   "attachments": {},
   "cell_type": "markdown",
   "metadata": {},
   "source": [
    "We can see that the p-value for this test is 0.9, which means it is a close p-value to the original target. Moreover, we have a positive t-computed value which states that the mean of the sample taken is greater than the mean of the hypothesized population. However, since the null hypothesis is rejected, there isn't evidence that supports there is more time listening to my entire library than my favorite artists.\n",
    "\n",
    "An interesting observation about this is that we can notice that I enjoy listening to my favorite artists or songs in contrast to exploring various artists."
   ]
  },
  {
   "attachments": {},
   "cell_type": "markdown",
   "metadata": {},
   "source": [
    "### One Sample, One-tailed test for Manny's Spotify Data"
   ]
  },
  {
   "cell_type": "code",
   "execution_count": 17,
   "metadata": {},
   "outputs": [
    {
     "name": "stdout",
     "output_type": "stream",
     "text": [
      "1.4532004957950542 0.10991476145397723\n",
      "DO NOT reject H0\n"
     ]
    }
   ],
   "source": [
    "t_computed, p_val = stats.ttest_1samp(y1, test_statistic)\n",
    "\n",
    "p_val /= 2 # because one tailed\n",
    "print(t_computed, p_val)\n",
    "alpha = 0.05\n",
    "if p_val < alpha:\n",
    "    print(\"reject H0\")\n",
    "else:\n",
    "    print(\"DO NOT reject H0\")\n",
    "\n",
    "# close p-value, positive t-computed means that mean of sample is greater than hypothesized population mean, thus no evidence supporting theres more listening than the mean"
   ]
  },
  {
   "attachments": {},
   "cell_type": "markdown",
   "metadata": {},
   "source": [
    "### Two Independent Samples, One-tailed test\n",
    "\n",
    "#### Null and alternative hypothesis:\n",
    "\n",
    "$H_0$: $\\mu_1 \\le \\mu _2$\n",
    "\n",
    "$H_1$: $\\mu_1 > \\mu _2$\n",
    "\n",
    "#### Level of significance:\n",
    "\n",
    "$\\alpha = 0.05$ \n",
    "\n",
    "#### Appropriate test statistic:\n",
    "\n",
    "$t = \\frac{\\overline{x} - \\mu}{s / \\sqrt(n)}$\n",
    "\n",
    "### Formulate decision rule:\n",
    "\n",
    "* If t-computed is > 1.708, then reject $H_0$\n",
    "\n",
    "* If t-computed is <= 1.708, then Do Not Reject $H_0$"
   ]
  },
  {
   "cell_type": "code",
   "execution_count": 19,
   "metadata": {},
   "outputs": [
    {
     "name": "stdout",
     "output_type": "stream",
     "text": [
      "0.49754738085287564 0.3160943714385194\n",
      "DO NOT reject H0\n"
     ]
    }
   ],
   "source": [
    "t, pval = stats.ttest_ind(y, y1)\n",
    "# when performing a one tailed test, you need to divide the pval by 2\n",
    "pval /= 2\n",
    "print(t, pval)\n",
    "alpha = 0.05\n",
    "if p_val < alpha:\n",
    "    print(\"reject H0\")\n",
    "else:\n",
    "    print(\"DO NOT reject H0\")"
   ]
  },
  {
   "attachments": {},
   "cell_type": "markdown",
   "metadata": {},
   "source": [
    "Not a high correlation between each listening time, I listen to more music than Manny."
   ]
  },
  {
   "attachments": {},
   "cell_type": "markdown",
   "metadata": {},
   "source": [
    "## Classification Results"
   ]
  },
  {
   "attachments": {},
   "cell_type": "markdown",
   "metadata": {},
   "source": [
    "### Manny"
   ]
  },
  {
   "cell_type": "code",
   "execution_count": null,
   "metadata": {},
   "outputs": [],
   "source": [
    "from sklearn.neighbors import KNeighborsClassifier\n",
    "\n",
    "def fill_in_kNN(X_train_normalized, X_test_normalized, y_train, y_test):\n",
    "    knn_clf = KNeighborsClassifier(n_neighbors=3, metric=\"euclidean\")\n",
    "    knn_clf.fit(X_train_normalized,  y_train)\n",
    "    y_predicted = knn_clf.predict(X_test_normalized)\n",
    "    # print(\"y predicted:\", y_predicted)\n",
    "    # print(\"nearest neighbors:\", knn_clf.kneighbors(X_test_normalized))\n",
    "\n",
    "    acc = knn_clf.score(X_test_normalized, y_test)\n",
    "    print(\"accuracy:\", acc)"
   ]
  },
  {
   "attachments": {},
   "cell_type": "markdown",
   "metadata": {},
   "source": [
    "### Conclusion"
   ]
  },
  {
   "attachments": {},
   "cell_type": "markdown",
   "metadata": {},
   "source": [
    "Overall, seeing all the data that we culminated throughout the year, visualized, was fascinating. Albeit, streaming services now provide these stats at the end of each year, comparing them to one another is where the fun is at. Seeing the machine learning model predicting the differences in our listening histories was also thrilling."
   ]
  },
  {
   "cell_type": "markdown",
   "metadata": {},
   "source": []
  }
 ],
 "metadata": {
  "kernelspec": {
   "display_name": "Python 3.9.12 ('base')",
   "language": "python",
   "name": "python3"
  },
  "language_info": {
   "codemirror_mode": {
    "name": "ipython",
    "version": 3
   },
   "file_extension": ".py",
   "mimetype": "text/x-python",
   "name": "python",
   "nbconvert_exporter": "python",
   "pygments_lexer": "ipython3",
   "version": "3.9.12"
  },
  "orig_nbformat": 4,
  "vscode": {
   "interpreter": {
    "hash": "e5ae5c5ffadcc720ad345315bca8222d9b54622745dedd7a100ddee36e6b85bb"
   }
  }
 },
 "nbformat": 4,
 "nbformat_minor": 2
}
