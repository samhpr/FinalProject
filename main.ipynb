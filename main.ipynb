{
 "cells": [
  {
   "cell_type": "markdown",
   "metadata": {},
   "source": [
    "# Analyzing Spotify Data\n",
    "\n",
    "CPSC 223 Section 01\n",
    "\n",
    "Dec 6, 2022\n",
    "\n",
    "Sam Hopper"
   ]
  },
  {
   "cell_type": "code",
   "execution_count": 1,
   "metadata": {},
   "outputs": [],
   "source": [
    "import numpy as np\n",
    "import pandas as pd\n",
    "import matplotlib.pyplot as plt\n",
    "import scipy.stats as stats"
   ]
  },
  {
   "cell_type": "code",
   "execution_count": 31,
   "metadata": {},
   "outputs": [
    {
     "data": {
      "text/plain": [
       "<BarContainer object of 5 artists>"
      ]
     },
     "execution_count": 31,
     "metadata": {},
     "output_type": "execute_result"
    },
    {
     "data": {
      "image/png": "[encoded data removed]",
      "text/plain": [
       "<Figure size 432x288 with 1 Axes>"
      ]
     },
     "metadata": {
      "needs_background": "light"
     },
     "output_type": "display_data"
    }
   ],
   "source": [
    "df = pd.read_csv(\"project_midterm_part.csv\")\n",
    "artist_name_df = df.groupby(\"artistName\")\n",
    "minutes_played_df = df.groupby(\"msPlayed\")\n",
    "\n",
    "\n",
    "artist_df = artist_name_df.get_group(\"Kanye West\")\n",
    "artist_ser = artist_df[\"msPlayed\"]\n",
    "\n",
    "artist_df = artist_name_df.get_group(\"Pink Floyd\")\n",
    "artist_ser2 = artist_df[\"msPlayed\"]\n",
    "\n",
    "artist_df = artist_name_df.get_group(\"Drake\")\n",
    "artist_ser3 = artist_df[\"msPlayed\"]\n",
    "\n",
    "artist_df = artist_name_df.get_group(\"Baby Keem\")\n",
    "artist_ser4 = artist_df[\"msPlayed\"]\n",
    "\n",
    "artist_df = artist_name_df.get_group(\"Billie Eilish\")\n",
    "artist_ser5 = artist_df[\"msPlayed\"]\n",
    "\n",
    "x = [\"Kanye West\", \"Pink Floyd\", \"Drake\", \"Baby Keem\", \"Billie Eilish\"]\n",
    "y = [int(artist_ser.sum()), int(artist_ser2.sum()), int(artist_ser3.sum()), int(artist_ser4.sum()), int(artist_ser5.sum())]\n",
    "\n",
    "#print(y[0])\n",
    "for i in range(len(y)):\n",
    "    #print(i)\n",
    "    y[i] = y[i] / 60000\n",
    "\n",
    "\"\"\"\n",
    "for i in y:\n",
    "    print(i)\n",
    "\"\"\"\n",
    "plt.ylabel(\"Listening time (minutes)\")\n",
    "plt.xlabel(\"Artists\")\n",
    "plt.bar(x,y)"
   ]
  },
  {
   "cell_type": "markdown",
   "metadata": {},
   "source": [
    "## One Sample, One-tailed test"
   ]
  },
  {
   "cell_type": "code",
   "execution_count": 32,
   "metadata": {},
   "outputs": [
    {
     "name": "stdout",
     "output_type": "stream",
     "text": [
      "1.7195544289048992 0.08031689512681751\n",
      "DO NOT reject H0\n"
     ]
    }
   ],
   "source": [
    "t_computed, p_val = stats.ttest_1samp(y, 31)\n",
    "\n",
    "p_val /= 2 # because one tailed\n",
    "print(t_computed, p_val)\n",
    "alpha = 0.05\n",
    "if p_val < alpha:\n",
    "    print(\"reject H0\")\n",
    "else:\n",
    "    print(\"DO NOT reject H0\")"
   ]
  }
 ],
 "metadata": {
  "kernelspec": {
   "display_name": "Python 3.9.12 ('base')",
   "language": "python",
   "name": "python3"
  },
  "language_info": {
   "codemirror_mode": {
    "name": "ipython",
    "version": 3
   },
   "file_extension": ".py",
   "mimetype": "text/x-python",
   "name": "python",
   "nbconvert_exporter": "python",
   "pygments_lexer": "ipython3",
   "version": "3.9.12"
  },
  "orig_nbformat": 4,
  "vscode": {
   "interpreter": {
    "hash": "e5ae5c5ffadcc720ad345315bca8222d9b54622745dedd7a100ddee36e6b85bb"
   }
  }
 },
 "nbformat": 4,
 "nbformat_minor": 2
}
