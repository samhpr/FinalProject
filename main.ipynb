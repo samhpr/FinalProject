{
 "cells": [
  {
   "attachments": {},
   "cell_type": "markdown",
   "metadata": {},
   "source": [
    "# CPSC222 Final Project - Analyzing Spotify Data\n",
    "\n",
    "CPSC 223 Section 01\n",
    "\n",
    "12/13/2022\n",
    "\n",
    "Sam Hopper, Manny Uzoma\n",
    "\n",
    "Within this project, we are going to be analyzing the diferences in our spotify datasets. Moreover, we are going to attempt to train a machine learning model to predict the differences in our listening history."
   ]
  },
  {
   "attachments": {},
   "cell_type": "markdown",
   "metadata": {},
   "source": [
    "## Introduction\n",
    "1. The domain we are researching is a Spotify dataset.\n",
    "1. We colleced CSV files of the data from Spotify.\n",
    "1. Tables\n",
    "    * Data was automatically collected using the Spotify Developer portal.\n",
    "    * Each table has 4 instances, a date, artist name, track name, and miliseconds played.\n",
    "1. Attributes:\n",
    "    * \"endTime\": cardinal date and time in string\n",
    "    * \"artistName\": the name of the artist in string format\n",
    "    * \"trackName\": name of the track as a string\n",
    "    * \"msPlayed\": amount of time played (in miliseconds) as a integer for each song\n",
    "1. We are classifying the artist name and the miliseconds played in the dataset.\n",
    "1. The primary potential impact on our results is us, being the stakeholders, as we will be demonstrating the resources learned from class in real world applications."
   ]
  },
  {
   "attachments": {},
   "cell_type": "markdown",
   "metadata": {},
   "source": [
    "## Data Analysis\n",
    "1. Cleaning was minimal as there were no missing values within this dataset: \n",
    "    * The most cleaning necessary was converting the Spotify raw json file to CSV format. \n",
    "    * Moreover, we had to convert miliseconds to minutes.\n",
    "2. Data preperation and aggregation, had to search and group artist names to the respective miliseconds played.\n"
   ]
  },
  {
   "attachments": {},
   "cell_type": "markdown",
   "metadata": {},
   "source": [
    "We begin by creating the dataframes and importing the necessary libraries needed. Primarily, we will use pandas to begin sorting our data into a dataframe object."
   ]
  },
  {
   "cell_type": "code",
   "execution_count": 14,
   "metadata": {},
   "outputs": [],
   "source": [
    "import numpy as np\n",
    "import pandas as pd\n",
    "import matplotlib.pyplot as plt\n",
    "import scipy.stats as stats\n",
    "\n",
    "df = pd.read_csv(\"project_midterm_part.csv\")\n",
    "artist_name_df = df.groupby(\"artistName\")\n",
    "\n",
    "manny_df = pd.read_csv(\"StreamingHistory1.csv\")\n",
    "manny_artist_name_df = manny_df.groupby(\"artistName\")"
   ]
  },
  {
   "attachments": {},
   "cell_type": "markdown",
   "metadata": {},
   "source": [
    "#### Beginning Visualizations - Aggregating the dataset\n",
    "\n",
    "Grouping through each of our five chosen artists and splitting into series to obtain the sums of each."
   ]
  },
  {
   "cell_type": "code",
   "execution_count": 15,
   "metadata": {},
   "outputs": [],
   "source": [
    "artist_df = artist_name_df.get_group(\"Kanye West\")\n",
    "artist_ser = artist_df[\"msPlayed\"]\n",
    "manny_df1 = manny_artist_name_df.get_group(\"Kanye West\")\n",
    "artist_ser11 = manny_df1[\"msPlayed\"]\n",
    "\n",
    "artist_df = artist_name_df.get_group(\"Mac Miller\")\n",
    "artist_ser2 = artist_df[\"msPlayed\"]\n",
    "manny_df1 = manny_artist_name_df.get_group(\"Mac Miller\")\n",
    "artist_ser22 = manny_df1[\"msPlayed\"]\n",
    "\n",
    "artist_df = artist_name_df.get_group(\"Drake\")\n",
    "artist_ser3 = artist_df[\"msPlayed\"]\n",
    "manny_df1 = manny_artist_name_df.get_group(\"Drake\")\n",
    "artist_ser33 = manny_df1[\"msPlayed\"]\n",
    "\n",
    "artist_df = artist_name_df.get_group(\"SZA\")\n",
    "artist_ser4 = artist_df[\"msPlayed\"]\n",
    "manny_df1 = manny_artist_name_df.get_group(\"SZA\")\n",
    "artist_ser44 = manny_df1[\"msPlayed\"]\n",
    "\n",
    "artist_df = artist_name_df.get_group(\"Billie Eilish\")\n",
    "artist_ser5 = artist_df[\"msPlayed\"]\n",
    "manny_df1 = manny_artist_name_df.get_group(\"Billie Eilish\")\n",
    "artist_ser55 = manny_df1[\"msPlayed\"]"
   ]
  },
  {
   "attachments": {},
   "cell_type": "markdown",
   "metadata": {},
   "source": [
    "Beginning of visualization by identifying each Manny and I's X and Y plot labels and additionally creating the sum of the series for each to find the total amount of time listened for each artist. Moreover, I have a loop that intuitively goes through each instance of the series, which were in miliseconds and now minutes by dividing by 60,000."
   ]
  },
  {
   "cell_type": "code",
   "execution_count": 16,
   "metadata": {},
   "outputs": [
    {
     "data": {
      "text/plain": [
       "'\\nfor i in y:\\n    print(i)\\n'"
      ]
     },
     "execution_count": 16,
     "metadata": {},
     "output_type": "execute_result"
    }
   ],
   "source": [
    "x = [\"Kanye West\", \"Mac Miller\", \"Drake\", \"SZA\", \"Billie Eilish\"]\n",
    "y = [int(artist_ser.sum()), int(artist_ser2.sum()), int(artist_ser3.sum()), int(artist_ser4.sum()), int(artist_ser5.sum())]\n",
    "\n",
    "x1 = [\"Kanye West\", \"Mac Miller\", \"Drake\", \"SZA\", \"Billie Eilish\"]\n",
    "y1 = [int(artist_ser11.sum()), int(artist_ser22.sum()), int(artist_ser33.sum()), int(artist_ser44.sum()), int(artist_ser55.sum())]\n",
    "\n",
    "# finding the mean amount of time listened\n",
    "mean_listening_time_ser = df.iloc[:,3]\n",
    "test_statistic = mean_listening_time_ser.mean() / 60000\n",
    "\n",
    "#print(y[0])\n",
    "for i in range(len(y)):\n",
    "    #print(i)\n",
    "    y[i] = y[i] / 60000\n",
    "    y1[i] = y1[i] / 60000\n",
    "\n",
    "\"\"\"\n",
    "for i in y:\n",
    "    print(i)\n",
    "\"\"\""
   ]
  },
  {
   "attachments": {},
   "cell_type": "markdown",
   "metadata": {},
   "source": [
    "### Visualization of Sam Spotify listening history dataset"
   ]
  },
  {
   "cell_type": "code",
   "execution_count": 17,
   "metadata": {},
   "outputs": [
    {
     "data": {
      "image/png": "[encoded data removed]",
      "text/plain": [
       "<Figure size 432x288 with 1 Axes>"
      ]
     },
     "metadata": {
      "needs_background": "light"
     },
     "output_type": "display_data"
    }
   ],
   "source": [
    "plt.ylabel(\"Listening time (minutes)\")\n",
    "plt.xlabel(\"Artists\")\n",
    "plt.title(\"Sam Spotify Listening History (November-December 2021)\")\n",
    "plt.bar(x,y)\n",
    "plt.show()"
   ]
  },
  {
   "attachments": {},
   "cell_type": "markdown",
   "metadata": {},
   "source": [
    "#### Visualization of Manny Spotify listening history dataset"
   ]
  },
  {
   "cell_type": "code",
   "execution_count": 18,
   "metadata": {},
   "outputs": [
    {
     "data": {
      "image/png": "[encoded data removed]",
      "text/plain": [
       "<Figure size 432x288 with 1 Axes>"
      ]
     },
     "metadata": {
      "needs_background": "light"
     },
     "output_type": "display_data"
    }
   ],
   "source": [
    "plt.ylabel(\"Listening time (minutes)\")\n",
    "plt.xlabel(\"Artists\")\n",
    "plt.title(\"Manny Spotify Listening History (November-December 2021)\")\n",
    "plt.bar(x1, y1)\n",
    "plt.show()"
   ]
  },
  {
   "attachments": {},
   "cell_type": "markdown",
   "metadata": {},
   "source": [
    "### Visualization of both datasets"
   ]
  },
  {
   "cell_type": "code",
   "execution_count": 19,
   "metadata": {},
   "outputs": [
    {
     "data": {
      "image/png": "[encoded data removed]",
      "text/plain": [
       "<Figure size 432x288 with 1 Axes>"
      ]
     },
     "metadata": {
      "needs_background": "light"
     },
     "output_type": "display_data"
    }
   ],
   "source": [
    "plt.ylabel(\"Listening time (minutes)\")\n",
    "plt.xlabel(\"Artists\")\n",
    "plt.title(\"Sam vs. Manny Spotify Listening History (November-December 2021)\")\n",
    "plt.bar(x, y, alpha=0.5)\n",
    "plt.bar(x1, y1, alpha=0.5)\n",
    "plt.show()"
   ]
  },
  {
   "attachments": {},
   "cell_type": "markdown",
   "metadata": {},
   "source": [
    "* Primary takeaways forom this graph: I listen to significantly more Kanye West than Manny listens to Drake. But we can test this using hypothesis testing:"
   ]
  },
  {
   "attachments": {},
   "cell_type": "markdown",
   "metadata": {},
   "source": [
    "### One Sample, One-tailed test for Sam's Spotify Data\n",
    "\n",
    "#### Null and alternative hypothesis:\n",
    "\n",
    "$H_0$: $\\mu \\le \\mu _2$\n",
    "\n",
    "\n",
    "\n",
    "$H_1$: $\\mu > \\mu _2$\n",
    "\n",
    "#### Level of significance:\n",
    "\n",
    "$\\alpha = 0.05$ \n",
    "\n",
    "#### Appropriate test statistic:\n",
    "\n",
    "$t = \\frac{\\overline{x} - \\mu}{s / \\sqrt(n)}$\n",
    "\n",
    "### Formulate decision rule:\n",
    "\n",
    "* If t-computed is > 1.708, then reject $H_0$\n",
    "\n",
    "* If t-computed is <= 1.708, then Do Not Reject $H_0$"
   ]
  },
  {
   "cell_type": "code",
   "execution_count": 20,
   "metadata": {},
   "outputs": [
    {
     "name": "stdout",
     "output_type": "stream",
     "text": [
      "1.410828655650035 0.11556136773482795\n",
      "DO NOT reject H0\n"
     ]
    }
   ],
   "source": [
    "t_computed, p_val = stats.ttest_1samp(y, test_statistic)\n",
    "\n",
    "p_val /= 2 # because one tailed\n",
    "print(t_computed, p_val)\n",
    "alpha = 0.05\n",
    "if p_val < alpha:\n",
    "    print(\"reject H0\")\n",
    "else:\n",
    "    print(\"DO NOT reject H0\")"
   ]
  },
  {
   "attachments": {},
   "cell_type": "markdown",
   "metadata": {},
   "source": [
    "We can see that the p-value for this test is 0.9, which means it is a close p-value to the original target. Moreover, we have a positive t-computed value which states that the mean of the sample taken is greater than the mean of the hypothesized population. However, since the null hypothesis is rejected, there isn't evidence that supports there is more time listening to my entire library than my favorite artists.\n",
    "\n",
    "An interesting observation about this is that we can notice that I enjoy listening to my favorite artists or songs in contrast to exploring various artists."
   ]
  },
  {
   "attachments": {},
   "cell_type": "markdown",
   "metadata": {},
   "source": [
    "### One Sample, One-tailed test for Manny's Spotify Data"
   ]
  },
  {
   "cell_type": "code",
   "execution_count": 21,
   "metadata": {},
   "outputs": [
    {
     "name": "stdout",
     "output_type": "stream",
     "text": [
      "1.4534198984552864 0.10988625487260933\n",
      "DO NOT reject H0\n"
     ]
    }
   ],
   "source": [
    "t_computed, p_val = stats.ttest_1samp(y1, test_statistic)\n",
    "\n",
    "p_val /= 2 # because one tailed\n",
    "print(t_computed, p_val)\n",
    "alpha = 0.05\n",
    "if p_val < alpha:\n",
    "    print(\"reject H0\")\n",
    "else:\n",
    "    print(\"DO NOT reject H0\")\n"
   ]
  },
  {
   "attachments": {},
   "cell_type": "markdown",
   "metadata": {},
   "source": [
    "### Two Independent Samples, One-tailed test\n",
    "\n",
    "#### Null and alternative hypothesis:\n",
    "\n",
    "$H_0$: $\\mu_1 \\le \\mu _2$\n",
    "\n",
    "$H_1$: $\\mu_1 > \\mu _2$\n",
    "\n",
    "#### Level of significance:\n",
    "\n",
    "$\\alpha = 0.05$ \n",
    "\n",
    "#### Appropriate test statistic:\n",
    "\n",
    "$t = \\frac{\\overline{x} - \\mu}{s / \\sqrt(n)}$\n",
    "\n",
    "### Formulate decision rule:\n",
    "\n",
    "* If t-computed is > 1.708, then reject $H_0$\n",
    "\n",
    "* If t-computed is <= 1.708, then Do Not Reject $H_0$"
   ]
  },
  {
   "cell_type": "code",
   "execution_count": 22,
   "metadata": {},
   "outputs": [
    {
     "name": "stdout",
     "output_type": "stream",
     "text": [
      "0.2610421270838129 0.40032712604452936\n",
      "DO NOT reject H0\n"
     ]
    }
   ],
   "source": [
    "t, pval = stats.ttest_ind(y, y1)\n",
    "# when performing a one tailed test, you need to divide the pval by 2\n",
    "pval /= 2\n",
    "print(t, pval)\n",
    "alpha = 0.05\n",
    "if p_val < alpha:\n",
    "    print(\"reject H0\")\n",
    "else:\n",
    "    print(\"DO NOT reject H0\")"
   ]
  },
  {
   "attachments": {},
   "cell_type": "markdown",
   "metadata": {},
   "source": [
    "Not a high correlation between each listening time, I listen to more music than Manny."
   ]
  },
  {
   "attachments": {},
   "cell_type": "markdown",
   "metadata": {},
   "source": [
    "## Classification Results"
   ]
  },
  {
   "attachments": {},
   "cell_type": "markdown",
   "metadata": {},
   "source": [
    "### Manny KNN"
   ]
  },
  {
   "cell_type": "code",
   "execution_count": 37,
   "metadata": {},
   "outputs": [
    {
     "name": "stderr",
     "output_type": "stream",
     "text": [
      "C:\\Users\\geekg\\AppData\\Local\\Temp\\ipykernel_18764\\4059587828.py:1: FutureWarning: In a future version of pandas all arguments of concat except for the argument 'objs' will be keyword-only.\n",
      "  y_model = pd.concat(y, y1)\n"
     ]
    },
    {
     "ename": "TypeError",
     "evalue": "cannot concatenate object of type '<class 'float'>'; only Series and DataFrame objs are valid",
     "output_type": "error",
     "traceback": [
      "\u001b[1;31m---------------------------------------------------------------------------\u001b[0m",
      "\u001b[1;31mTypeError\u001b[0m                                 Traceback (most recent call last)",
      "\u001b[1;32mc:\\Users\\geekg\\Documents\\CPSC222\\FinalProject\\FinalProject\\main.ipynb Cell 27\u001b[0m in \u001b[0;36m<cell line: 1>\u001b[1;34m()\u001b[0m\n\u001b[1;32m----> <a href='vscode-notebook-cell:/c%3A/Users/geekg/Documents/CPSC222/FinalProject/FinalProject/main.ipynb#X46sZmlsZQ%3D%3D?line=0'>1</a>\u001b[0m y_model \u001b[39m=\u001b[39m pd\u001b[39m.\u001b[39;49mconcat(y, y1)\n\u001b[0;32m      <a href='vscode-notebook-cell:/c%3A/Users/geekg/Documents/CPSC222/FinalProject/FinalProject/main.ipynb#X46sZmlsZQ%3D%3D?line=1'>2</a>\u001b[0m x_model \u001b[39m=\u001b[39m pd\u001b[39m.\u001b[39mconcat(x, x1)\n",
      "File \u001b[1;32mc:\\Users\\geekg\\anaconda3\\lib\\site-packages\\pandas\\util\\_decorators.py:311\u001b[0m, in \u001b[0;36mdeprecate_nonkeyword_arguments.<locals>.decorate.<locals>.wrapper\u001b[1;34m(*args, **kwargs)\u001b[0m\n\u001b[0;32m    305\u001b[0m \u001b[39mif\u001b[39;00m \u001b[39mlen\u001b[39m(args) \u001b[39m>\u001b[39m num_allow_args:\n\u001b[0;32m    306\u001b[0m     warnings\u001b[39m.\u001b[39mwarn(\n\u001b[0;32m    307\u001b[0m         msg\u001b[39m.\u001b[39mformat(arguments\u001b[39m=\u001b[39marguments),\n\u001b[0;32m    308\u001b[0m         \u001b[39mFutureWarning\u001b[39;00m,\n\u001b[0;32m    309\u001b[0m         stacklevel\u001b[39m=\u001b[39mstacklevel,\n\u001b[0;32m    310\u001b[0m     )\n\u001b[1;32m--> 311\u001b[0m \u001b[39mreturn\u001b[39;00m func(\u001b[39m*\u001b[39margs, \u001b[39m*\u001b[39m\u001b[39m*\u001b[39mkwargs)\n",
      "File \u001b[1;32mc:\\Users\\geekg\\anaconda3\\lib\\site-packages\\pandas\\core\\reshape\\concat.py:347\u001b[0m, in \u001b[0;36mconcat\u001b[1;34m(objs, axis, join, ignore_index, keys, levels, names, verify_integrity, sort, copy)\u001b[0m\n\u001b[0;32m    143\u001b[0m \u001b[39m@deprecate_nonkeyword_arguments\u001b[39m(version\u001b[39m=\u001b[39m\u001b[39mNone\u001b[39;00m, allowed_args\u001b[39m=\u001b[39m[\u001b[39m\"\u001b[39m\u001b[39mobjs\u001b[39m\u001b[39m\"\u001b[39m])\n\u001b[0;32m    144\u001b[0m \u001b[39mdef\u001b[39;00m \u001b[39mconcat\u001b[39m(\n\u001b[0;32m    145\u001b[0m     objs: Iterable[NDFrame] \u001b[39m|\u001b[39m Mapping[Hashable, NDFrame],\n\u001b[1;32m   (...)\u001b[0m\n\u001b[0;32m    154\u001b[0m     copy: \u001b[39mbool\u001b[39m \u001b[39m=\u001b[39m \u001b[39mTrue\u001b[39;00m,\n\u001b[0;32m    155\u001b[0m ) \u001b[39m-\u001b[39m\u001b[39m>\u001b[39m DataFrame \u001b[39m|\u001b[39m Series:\n\u001b[0;32m    156\u001b[0m     \u001b[39m\"\"\"\u001b[39;00m\n\u001b[0;32m    157\u001b[0m \u001b[39m    Concatenate pandas objects along a particular axis with optional set logic\u001b[39;00m\n\u001b[0;32m    158\u001b[0m \u001b[39m    along the other axes.\u001b[39;00m\n\u001b[1;32m   (...)\u001b[0m\n\u001b[0;32m    345\u001b[0m \u001b[39m    ValueError: Indexes have overlapping values: ['a']\u001b[39;00m\n\u001b[0;32m    346\u001b[0m \u001b[39m    \"\"\"\u001b[39;00m\n\u001b[1;32m--> 347\u001b[0m     op \u001b[39m=\u001b[39m _Concatenator(\n\u001b[0;32m    348\u001b[0m         objs,\n\u001b[0;32m    349\u001b[0m         axis\u001b[39m=\u001b[39;49maxis,\n\u001b[0;32m    350\u001b[0m         ignore_index\u001b[39m=\u001b[39;49mignore_index,\n\u001b[0;32m    351\u001b[0m         join\u001b[39m=\u001b[39;49mjoin,\n\u001b[0;32m    352\u001b[0m         keys\u001b[39m=\u001b[39;49mkeys,\n\u001b[0;32m    353\u001b[0m         levels\u001b[39m=\u001b[39;49mlevels,\n\u001b[0;32m    354\u001b[0m         names\u001b[39m=\u001b[39;49mnames,\n\u001b[0;32m    355\u001b[0m         verify_integrity\u001b[39m=\u001b[39;49mverify_integrity,\n\u001b[0;32m    356\u001b[0m         copy\u001b[39m=\u001b[39;49mcopy,\n\u001b[0;32m    357\u001b[0m         sort\u001b[39m=\u001b[39;49msort,\n\u001b[0;32m    358\u001b[0m     )\n\u001b[0;32m    360\u001b[0m     \u001b[39mreturn\u001b[39;00m op\u001b[39m.\u001b[39mget_result()\n",
      "File \u001b[1;32mc:\\Users\\geekg\\anaconda3\\lib\\site-packages\\pandas\\core\\reshape\\concat.py:437\u001b[0m, in \u001b[0;36m_Concatenator.__init__\u001b[1;34m(self, objs, axis, join, keys, levels, names, ignore_index, verify_integrity, copy, sort)\u001b[0m\n\u001b[0;32m    432\u001b[0m     \u001b[39mif\u001b[39;00m \u001b[39mnot\u001b[39;00m \u001b[39misinstance\u001b[39m(obj, (ABCSeries, ABCDataFrame)):\n\u001b[0;32m    433\u001b[0m         msg \u001b[39m=\u001b[39m (\n\u001b[0;32m    434\u001b[0m             \u001b[39mf\u001b[39m\u001b[39m\"\u001b[39m\u001b[39mcannot concatenate object of type \u001b[39m\u001b[39m'\u001b[39m\u001b[39m{\u001b[39;00m\u001b[39mtype\u001b[39m(obj)\u001b[39m}\u001b[39;00m\u001b[39m'\u001b[39m\u001b[39m; \u001b[39m\u001b[39m\"\u001b[39m\n\u001b[0;32m    435\u001b[0m             \u001b[39m\"\u001b[39m\u001b[39monly Series and DataFrame objs are valid\u001b[39m\u001b[39m\"\u001b[39m\n\u001b[0;32m    436\u001b[0m         )\n\u001b[1;32m--> 437\u001b[0m         \u001b[39mraise\u001b[39;00m \u001b[39mTypeError\u001b[39;00m(msg)\n\u001b[0;32m    439\u001b[0m     ndims\u001b[39m.\u001b[39madd(obj\u001b[39m.\u001b[39mndim)\n\u001b[0;32m    441\u001b[0m \u001b[39m# get the sample\u001b[39;00m\n\u001b[0;32m    442\u001b[0m \u001b[39m# want the highest ndim that we have, and must be non-empty\u001b[39;00m\n\u001b[0;32m    443\u001b[0m \u001b[39m# unless all objs are empty\u001b[39;00m\n",
      "\u001b[1;31mTypeError\u001b[0m: cannot concatenate object of type '<class 'float'>'; only Series and DataFrame objs are valid"
     ]
    }
   ],
   "source": [
    "y_model = y\n",
    "x_model = y1"
   ]
  },
  {
   "cell_type": "code",
   "execution_count": 38,
   "metadata": {},
   "outputs": [
    {
     "ename": "ValueError",
     "evalue": "The least populated class in y has only 1 member, which is too few. The minimum number of groups for any class cannot be less than 2.",
     "output_type": "error",
     "traceback": [
      "\u001b[1;31m---------------------------------------------------------------------------\u001b[0m",
      "\u001b[1;31mValueError\u001b[0m                                Traceback (most recent call last)",
      "\u001b[1;32mc:\\Users\\geekg\\Documents\\CPSC222\\FinalProject\\FinalProject\\main.ipynb Cell 28\u001b[0m in \u001b[0;36m<cell line: 5>\u001b[1;34m()\u001b[0m\n\u001b[0;32m      <a href='vscode-notebook-cell:/c%3A/Users/geekg/Documents/CPSC222/FinalProject/FinalProject/main.ipynb#X35sZmlsZQ%3D%3D?line=1'>2</a>\u001b[0m \u001b[39mfrom\u001b[39;00m \u001b[39msklearn\u001b[39;00m\u001b[39m.\u001b[39;00m\u001b[39mmodel_selection\u001b[39;00m \u001b[39mimport\u001b[39;00m train_test_split\n\u001b[0;32m      <a href='vscode-notebook-cell:/c%3A/Users/geekg/Documents/CPSC222/FinalProject/FinalProject/main.ipynb#X35sZmlsZQ%3D%3D?line=2'>3</a>\u001b[0m \u001b[39mfrom\u001b[39;00m \u001b[39msklearn\u001b[39;00m\u001b[39m.\u001b[39;00m\u001b[39mneighbors\u001b[39;00m \u001b[39mimport\u001b[39;00m KNeighborsClassifier\n\u001b[1;32m----> <a href='vscode-notebook-cell:/c%3A/Users/geekg/Documents/CPSC222/FinalProject/FinalProject/main.ipynb#X35sZmlsZQ%3D%3D?line=4'>5</a>\u001b[0m X_train, X_test, y_train, y_test \u001b[39m=\u001b[39m train_test_split(x_model, y_model, random_state \u001b[39m=\u001b[39;49m \u001b[39m0\u001b[39;49m, stratify \u001b[39m=\u001b[39;49m y_model, test_size\u001b[39m=\u001b[39;49m\u001b[39m0.25\u001b[39;49m)\n\u001b[0;32m      <a href='vscode-notebook-cell:/c%3A/Users/geekg/Documents/CPSC222/FinalProject/FinalProject/main.ipynb#X35sZmlsZQ%3D%3D?line=5'>6</a>\u001b[0m \u001b[39mprint\u001b[39m(X_test, y_test)\n\u001b[0;32m      <a href='vscode-notebook-cell:/c%3A/Users/geekg/Documents/CPSC222/FinalProject/FinalProject/main.ipynb#X35sZmlsZQ%3D%3D?line=6'>7</a>\u001b[0m scalar \u001b[39m=\u001b[39m MinMaxScaler()\n",
      "File \u001b[1;32mc:\\Users\\geekg\\anaconda3\\lib\\site-packages\\sklearn\\model_selection\\_split.py:2441\u001b[0m, in \u001b[0;36mtrain_test_split\u001b[1;34m(test_size, train_size, random_state, shuffle, stratify, *arrays)\u001b[0m\n\u001b[0;32m   2437\u001b[0m         CVClass \u001b[39m=\u001b[39m ShuffleSplit\n\u001b[0;32m   2439\u001b[0m     cv \u001b[39m=\u001b[39m CVClass(test_size\u001b[39m=\u001b[39mn_test, train_size\u001b[39m=\u001b[39mn_train, random_state\u001b[39m=\u001b[39mrandom_state)\n\u001b[1;32m-> 2441\u001b[0m     train, test \u001b[39m=\u001b[39m \u001b[39mnext\u001b[39;49m(cv\u001b[39m.\u001b[39;49msplit(X\u001b[39m=\u001b[39;49marrays[\u001b[39m0\u001b[39;49m], y\u001b[39m=\u001b[39;49mstratify))\n\u001b[0;32m   2443\u001b[0m \u001b[39mreturn\u001b[39;00m \u001b[39mlist\u001b[39m(\n\u001b[0;32m   2444\u001b[0m     chain\u001b[39m.\u001b[39mfrom_iterable(\n\u001b[0;32m   2445\u001b[0m         (_safe_indexing(a, train), _safe_indexing(a, test)) \u001b[39mfor\u001b[39;00m a \u001b[39min\u001b[39;00m arrays\n\u001b[0;32m   2446\u001b[0m     )\n\u001b[0;32m   2447\u001b[0m )\n",
      "File \u001b[1;32mc:\\Users\\geekg\\anaconda3\\lib\\site-packages\\sklearn\\model_selection\\_split.py:1600\u001b[0m, in \u001b[0;36mBaseShuffleSplit.split\u001b[1;34m(self, X, y, groups)\u001b[0m\n\u001b[0;32m   1570\u001b[0m \u001b[39m\"\"\"Generate indices to split data into training and test set.\u001b[39;00m\n\u001b[0;32m   1571\u001b[0m \n\u001b[0;32m   1572\u001b[0m \u001b[39mParameters\u001b[39;00m\n\u001b[1;32m   (...)\u001b[0m\n\u001b[0;32m   1597\u001b[0m \u001b[39mto an integer.\u001b[39;00m\n\u001b[0;32m   1598\u001b[0m \u001b[39m\"\"\"\u001b[39;00m\n\u001b[0;32m   1599\u001b[0m X, y, groups \u001b[39m=\u001b[39m indexable(X, y, groups)\n\u001b[1;32m-> 1600\u001b[0m \u001b[39mfor\u001b[39;00m train, test \u001b[39min\u001b[39;00m \u001b[39mself\u001b[39m\u001b[39m.\u001b[39m_iter_indices(X, y, groups):\n\u001b[0;32m   1601\u001b[0m     \u001b[39myield\u001b[39;00m train, test\n",
      "File \u001b[1;32mc:\\Users\\geekg\\anaconda3\\lib\\site-packages\\sklearn\\model_selection\\_split.py:1940\u001b[0m, in \u001b[0;36mStratifiedShuffleSplit._iter_indices\u001b[1;34m(self, X, y, groups)\u001b[0m\n\u001b[0;32m   1938\u001b[0m class_counts \u001b[39m=\u001b[39m np\u001b[39m.\u001b[39mbincount(y_indices)\n\u001b[0;32m   1939\u001b[0m \u001b[39mif\u001b[39;00m np\u001b[39m.\u001b[39mmin(class_counts) \u001b[39m<\u001b[39m \u001b[39m2\u001b[39m:\n\u001b[1;32m-> 1940\u001b[0m     \u001b[39mraise\u001b[39;00m \u001b[39mValueError\u001b[39;00m(\n\u001b[0;32m   1941\u001b[0m         \u001b[39m\"\u001b[39m\u001b[39mThe least populated class in y has only 1\u001b[39m\u001b[39m\"\u001b[39m\n\u001b[0;32m   1942\u001b[0m         \u001b[39m\"\u001b[39m\u001b[39m member, which is too few. The minimum\u001b[39m\u001b[39m\"\u001b[39m\n\u001b[0;32m   1943\u001b[0m         \u001b[39m\"\u001b[39m\u001b[39m number of groups for any class cannot\u001b[39m\u001b[39m\"\u001b[39m\n\u001b[0;32m   1944\u001b[0m         \u001b[39m\"\u001b[39m\u001b[39m be less than 2.\u001b[39m\u001b[39m\"\u001b[39m\n\u001b[0;32m   1945\u001b[0m     )\n\u001b[0;32m   1947\u001b[0m \u001b[39mif\u001b[39;00m n_train \u001b[39m<\u001b[39m n_classes:\n\u001b[0;32m   1948\u001b[0m     \u001b[39mraise\u001b[39;00m \u001b[39mValueError\u001b[39;00m(\n\u001b[0;32m   1949\u001b[0m         \u001b[39m\"\u001b[39m\u001b[39mThe train_size = \u001b[39m\u001b[39m%d\u001b[39;00m\u001b[39m should be greater or \u001b[39m\u001b[39m\"\u001b[39m\n\u001b[0;32m   1950\u001b[0m         \u001b[39m\"\u001b[39m\u001b[39mequal to the number of classes = \u001b[39m\u001b[39m%d\u001b[39;00m\u001b[39m\"\u001b[39m \u001b[39m%\u001b[39m (n_train, n_classes)\n\u001b[0;32m   1951\u001b[0m     )\n",
      "\u001b[1;31mValueError\u001b[0m: The least populated class in y has only 1 member, which is too few. The minimum number of groups for any class cannot be less than 2."
     ]
    }
   ],
   "source": [
    "from sklearn.preprocessing import MinMaxScaler\n",
    "from sklearn.model_selection import train_test_split\n",
    "from sklearn.neighbors import KNeighborsClassifier\n",
    "\n",
    "X_train, X_test, y_train, y_test = train_test_split(x_model, y_model, random_state = 0, stratify = y_model, test_size=0.25)\n",
    "print(X_test, y_test)\n",
    "scalar = MinMaxScaler()\n",
    "scalar.fit(X_train)\n",
    "\n",
    "\"\"\"\n",
    "X_train_normalized = scalar.transform(X_train)\n",
    "print(X_train_normalized)\n",
    "X_test_normalized = scalar.transform(X_test)\n",
    "print(X_test_normalized)\n",
    "\n",
    "\n",
    "knn_clf = KNeighborsClassifier(n_neighbors=3, metric=\"euclidean\")\n",
    "knn_clf.fit(X_train_normalized,  y_train)\n",
    "y_predicted = knn_clf.predict(X_test_normalized)\n",
    "# print(\"y predicted:\", y_predicted)\n",
    "# print(\"nearest neighbors:\", knn_clf.kneighbors(X_test_normalized))\n",
    "\n",
    "acc = knn_clf.score(X_test_normalized, y_test)\n",
    "print(\"accuracy:\", acc)\n",
    "\"\"\""
   ]
  },
  {
   "attachments": {},
   "cell_type": "markdown",
   "metadata": {},
   "source": [
    "#### Decision Tree"
   ]
  },
  {
   "cell_type": "code",
   "execution_count": 24,
   "metadata": {},
   "outputs": [
    {
     "data": {
      "text/plain": [
       "DecisionTreeClassifier(max_depth=3, random_state=0)"
      ]
     },
     "execution_count": 24,
     "metadata": {},
     "output_type": "execute_result"
    }
   ],
   "source": [
    "from sklearn.tree import DecisionTreeClassifier\n",
    "from sklearn import preprocessing\n",
    "\n",
    "model = preprocessing.LabelEncoder()\n",
    "df[\"artistName\"] = model.fit_transform(df[\"artistName\"])\n",
    "manny_df[\"artistName\"] = model.fit_transform(manny_df[\"artistName\"])\n",
    "\n",
    "\n",
    "df.fillna(\"\")\n",
    "manny_df.fillna(\"\")\n",
    "\n",
    "y_model = df.drop([\"endTime\", \"trackName\"], axis=1)\n",
    "x_model = manny_df.drop([\"endTime\", \"trackName\"], axis=1)\n",
    "\n",
    "tree = DecisionTreeClassifier(random_state=0, max_depth=3)\n",
    "tree.fit(x_model, y_model)\n"
   ]
  },
  {
   "attachments": {},
   "cell_type": "markdown",
   "metadata": {},
   "source": [
    "#### Decision Tree Visualization"
   ]
  },
  {
   "cell_type": "code",
   "execution_count": 28,
   "metadata": {},
   "outputs": [
    {
     "data": {
      "text/plain": [
       "[Text(0.5, 0.875, '51 <= 935.5\\ngini = 0.985\\nsamples = 7901\\nvalue = [[11, 1, 1 ... 0, 0, 0]\\n[196, 4, 3 ... 1, 7, 1]]'),\n",
       " Text(0.25, 0.625, '51 <= 933.5\\ngini = 0.985\\nsamples = 5969\\nvalue = [[8, 0, 1 ... 0, 0, 0]\\n[143, 4, 2 ... 1, 6, 1]]'),\n",
       " Text(0.125, 0.375, '51 <= 932.5\\ngini = 0.985\\nsamples = 5942\\nvalue = [[8, 0, 1 ... 0, 0, 0]\\n[142, 4, 2 ... 1, 6, 1]]'),\n",
       " Text(0.0625, 0.125, 'gini = 0.985\\nsamples = 5930\\nvalue = [[8, 0, 1 ... 0, 0, 0]\\n[141, 4, 2 ... 1, 6, 1]]'),\n",
       " Text(0.1875, 0.125, 'gini = 0.812\\nsamples = 12\\nvalue = [[0, 0, 0 ... 0, 0, 0]\\n[1, 0, 0 ... 0, 0, 0]]'),\n",
       " Text(0.375, 0.375, '51 <= 934.5\\ngini = 0.888\\nsamples = 27\\nvalue = [[0, 0, 0 ... 0, 0, 0]\\n[1, 0, 0 ... 0, 0, 0]]'),\n",
       " Text(0.3125, 0.125, 'gini = 0.834\\nsamples = 19\\nvalue = [[0, 0, 0 ... 0, 0, 0]\\n[1, 0, 0 ... 0, 0, 0]]'),\n",
       " Text(0.4375, 0.125, 'gini = 0.828\\nsamples = 8\\nvalue = [[0, 0, 0 ... 0, 0, 0]\\n[0, 0, 0 ... 0, 0, 0]]'),\n",
       " Text(0.75, 0.625, '51 <= 943.5\\ngini = 0.986\\nsamples = 1932\\nvalue = [[3, 1, 0 ... 0, 0, 0]\\n[53, 0, 1 ... 0, 1, 0]]'),\n",
       " Text(0.625, 0.375, '51 <= 942.5\\ngini = 0.94\\nsamples = 104\\nvalue = [[0, 0, 0 ... 0, 0, 0]\\n[2, 0, 0 ... 0, 0, 0]]'),\n",
       " Text(0.5625, 0.125, 'gini = 0.95\\nsamples = 25\\nvalue = [[0, 0, 0 ... 0, 0, 0]\\n[1, 0, 0 ... 0, 0, 0]]'),\n",
       " Text(0.6875, 0.125, 'gini = 0.917\\nsamples = 79\\nvalue = [[0, 0, 0 ... 0, 0, 0]\\n[1, 0, 0 ... 0, 0, 0]]'),\n",
       " Text(0.875, 0.375, '51 <= 957.5\\ngini = 0.986\\nsamples = 1828\\nvalue = [[3, 1, 0 ... 0, 0, 0]\\n[51, 0, 1 ... 0, 1, 0]]'),\n",
       " Text(0.8125, 0.125, 'gini = 0.968\\nsamples = 83\\nvalue = [[1, 0, 0 ... 0, 0, 0]\\n[1, 0, 0 ... 0, 0, 0]]'),\n",
       " Text(0.9375, 0.125, 'gini = 0.986\\nsamples = 1745\\nvalue = [[2, 1, 0 ... 0, 0, 0]\\n[50, 0, 1 ... 0, 1, 0]]')]"
      ]
     },
     "execution_count": 28,
     "metadata": {},
     "output_type": "execute_result"
    },
    {
     "data": {
      "image/png": "[encoded data removed]",
      "text/plain": [
       "<Figure size 432x288 with 1 Axes>"
      ]
     },
     "metadata": {
      "needs_background": "light"
     },
     "output_type": "display_data"
    }
   ],
   "source": [
    "from sklearn.tree import plot_tree\n",
    "\n",
    "plot_tree(tree, feature_names=x_model.iloc[1], class_names={1: \"survived\", 0: \"died\"}, filled=True)"
   ]
  },
  {
   "attachments": {},
   "cell_type": "markdown",
   "metadata": {},
   "source": [
    "### Conclusion"
   ]
  },
  {
   "attachments": {},
   "cell_type": "markdown",
   "metadata": {},
   "source": [
    "Overall, seeing all the data that we culminated throughout the year, visualized, was fascinating. Albeit, streaming services now provide these stats at the end of each year, comparing them to one another is where the fun is at. Seeing the machine learning model predicting the differences in our listening histories was also thrilling."
   ]
  },
  {
   "cell_type": "markdown",
   "metadata": {},
   "source": []
  }
 ],
 "metadata": {
  "kernelspec": {
   "display_name": "base",
   "language": "python",
   "name": "python3"
  },
  "language_info": {
   "codemirror_mode": {
    "name": "ipython",
    "version": 3
   },
   "file_extension": ".py",
   "mimetype": "text/x-python",
   "name": "python",
   "nbconvert_exporter": "python",
   "pygments_lexer": "ipython3",
   "version": "3.9.12"
  },
  "orig_nbformat": 4,
  "vscode": {
   "interpreter": {
    "hash": "e5ae5c5ffadcc720ad345315bca8222d9b54622745dedd7a100ddee36e6b85bb"
   }
  }
 },
 "nbformat": 4,
 "nbformat_minor": 2
}
