{
 "cells": [
  {
   "attachments": {},
   "cell_type": "markdown",
   "metadata": {},
   "source": [
    "# CPSC222 Final Project - Analyzing Spotify Data\n",
    "\n",
    "CPSC 223 Section 01\n",
    "\n",
    "12/13/2022\n",
    "\n",
    "Sam Hopper, Manny Uzoma\n",
    "\n",
    "Within this project, we are going to be analyzing the diferences in our spotify datasets. Moreover, we are going to attempt to train a machine learning model to predict the differences in our listening history."
   ]
  },
  {
   "attachments": {},
   "cell_type": "markdown",
   "metadata": {},
   "source": [
    "## Introduction\n",
    "1. The domain we are researching is a Spotify dataset.\n",
    "1. We colleced CSV files of the data from Spotify.\n",
    "1. Tables\n",
    "    * Data was automatically collected using the Spotify Developer portal.\n",
    "    * Each table has 4 instances, a date, artist name, track name, and miliseconds played.\n",
    "1. Attributes:\n",
    "    * Date: cardinal date and time in string\n",
    "    * Artist name: the name of the artist in string format\n",
    "    * Track Name: name of the track as a string\n",
    "    * msPlayed: amount of time played (in miliseconds) as a integer\n",
    "1. We are classifying the artist name and the miliseconds played in the dataset.\n",
    "1. The primary potential impact on our results is us, being the stakeholders, as we will be demonstrating the resources learned from class in real world applications."
   ]
  },
  {
   "attachments": {},
   "cell_type": "markdown",
   "metadata": {},
   "source": [
    "## Data Analysis\n",
    "1. Cleaning\n",
    "2. Merging tables\n"
   ]
  },
  {
   "cell_type": "code",
   "execution_count": 3,
   "metadata": {},
   "outputs": [],
   "source": [
    "import numpy as np\n",
    "import pandas as pd\n",
    "import matplotlib.pyplot as plt\n",
    "import scipy.stats as stats\n",
    "\n",
    "df = pd.read_csv(\"project_midterm_part.csv\")\n",
    "artist_name_df = df.groupby(\"artistName\")\n",
    "\n",
    "manny_df = pd.read_csv(\"StreamingHistory1.csv\")\n",
    "manny_artist_name = manny_df.groupby(\"artistName\")"
   ]
  },
  {
   "attachments": {},
   "cell_type": "markdown",
   "metadata": {},
   "source": [
    "## Data Analysis"
   ]
  },
  {
   "cell_type": "code",
   "execution_count": 4,
   "metadata": {},
   "outputs": [
    {
     "data": {
      "text/plain": [
       "<BarContainer object of 5 artists>"
      ]
     },
     "execution_count": 4,
     "metadata": {},
     "output_type": "execute_result"
    },
    {
     "data": {
      "image/png": "[encoded data removed]",
      "text/plain": [
       "<Figure size 432x288 with 1 Axes>"
      ]
     },
     "metadata": {
      "needs_background": "light"
     },
     "output_type": "display_data"
    }
   ],
   "source": [
    "artist_df = artist_name_df.get_group(\"Kanye West\")\n",
    "artist_ser = artist_df[\"msPlayed\"]\n",
    "\n",
    "artist_df = artist_name_df.get_group(\"Pink Floyd\")\n",
    "artist_ser2 = artist_df[\"msPlayed\"]\n",
    "\n",
    "artist_df = artist_name_df.get_group(\"Drake\")\n",
    "artist_ser3 = artist_df[\"msPlayed\"]\n",
    "\n",
    "artist_df = artist_name_df.get_group(\"Mac DeMarco\")\n",
    "artist_ser4 = artist_df[\"msPlayed\"]\n",
    "\n",
    "artist_df = artist_name_df.get_group(\"Billie Eilish\")\n",
    "artist_ser5 = artist_df[\"msPlayed\"]\n",
    "\n",
    "x = [\"Kanye West\", \"Pink Floyd\", \"Drake\", \"Mac DeMarco\", \"Billie Eilish\"]\n",
    "y = [int(artist_ser.sum()), int(artist_ser2.sum()), int(artist_ser3.sum()), int(artist_ser4.sum()), int(artist_ser5.sum())]\n",
    "\n",
    "\n",
    "# finding the mean amount of time listened\n",
    "mean_listening_time_ser = df.iloc[:,3]\n",
    "test_statistic = mean_listening_time_ser.mean() / 60000\n",
    "\n",
    "#print(y[0])\n",
    "for i in range(len(y)):\n",
    "    #print(i)\n",
    "    y[i] = y[i] / 60000\n",
    "\n",
    "\"\"\"\n",
    "for i in y:\n",
    "    print(i)\n",
    "\"\"\"\n",
    "\n",
    "plt.ylabel(\"Listening time (minutes)\")\n",
    "plt.xlabel(\"Artists\")\n",
    "plt.bar(x,y)"
   ]
  },
  {
   "cell_type": "code",
   "execution_count": null,
   "metadata": {},
   "outputs": [],
   "source": []
  },
  {
   "attachments": {},
   "cell_type": "markdown",
   "metadata": {},
   "source": [
    "### One Sample, One-tailed test"
   ]
  },
  {
   "cell_type": "code",
   "execution_count": 6,
   "metadata": {},
   "outputs": [
    {
     "name": "stdout",
     "output_type": "stream",
     "text": [
      "1.816021123460566 0.07176957834026423\n",
      "DO NOT reject H0\n"
     ]
    }
   ],
   "source": [
    "t_computed, p_val = stats.ttest_1samp(y, test_statistic)\n",
    "\n",
    "p_val /= 2 # because one tailed\n",
    "print(t_computed, p_val)\n",
    "alpha = 0.05\n",
    "if p_val < alpha:\n",
    "    print(\"reject H0\")\n",
    "else:\n",
    "    print(\"DO NOT reject H0\")"
   ]
  },
  {
   "attachments": {},
   "cell_type": "markdown",
   "metadata": {},
   "source": [
    "## Classification Results"
   ]
  },
  {
   "attachments": {},
   "cell_type": "markdown",
   "metadata": {},
   "source": [
    "kNN and decision tree classifier"
   ]
  },
  {
   "attachments": {},
   "cell_type": "markdown",
   "metadata": {},
   "source": [
    "### Conclusion"
   ]
  },
  {
   "cell_type": "markdown",
   "metadata": {},
   "source": []
  }
 ],
 "metadata": {
  "kernelspec": {
   "display_name": "Python 3.9.12 ('base')",
   "language": "python",
   "name": "python3"
  },
  "language_info": {
   "codemirror_mode": {
    "name": "ipython",
    "version": 3
   },
   "file_extension": ".py",
   "mimetype": "text/x-python",
   "name": "python",
   "nbconvert_exporter": "python",
   "pygments_lexer": "ipython3",
   "version": "3.9.12"
  },
  "orig_nbformat": 4,
  "vscode": {
   "interpreter": {
    "hash": "e5ae5c5ffadcc720ad345315bca8222d9b54622745dedd7a100ddee36e6b85bb"
   }
  }
 },
 "nbformat": 4,
 "nbformat_minor": 2
}
